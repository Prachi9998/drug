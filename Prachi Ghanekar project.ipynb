{
 "cells": [
  {
   "cell_type": "raw",
   "id": "51344e44",
   "metadata": {},
   "source": [
    "About Dataset\n",
    "Context\n",
    "the data set is about try to predict the outcome of the drugs that might be accurate for the patient.\n",
    "\n",
    "Content\n",
    "The target feature is\n",
    "Drug type\n",
    "The feature sets are:\n",
    "Age\n",
    "Sex\n",
    "Blood Pressure Levels (BP)\n",
    "Cholesterol Levels\n",
    "Na to Potassium Ration\n",
    "\n",
    "The main problem here in not just the feature sets and target sets but also the approach that is taken in solving these types of problems "
   ]
  },
  {
   "cell_type": "code",
   "execution_count": 1,
   "id": "a3c3724b",
   "metadata": {},
   "outputs": [],
   "source": [
    "import numpy as np\n",
    "import pandas as pd\n",
    "import seaborn as sb\n",
    "import matplotlib.pyplot as plt\n",
    "import warnings\n",
    "warnings.filterwarnings('ignore')"
   ]
  },
  {
   "cell_type": "code",
   "execution_count": 2,
   "id": "ea36acb6",
   "metadata": {},
   "outputs": [
    {
     "data": {
      "text/html": [
       "<div>\n",
       "<style scoped>\n",
       "    .dataframe tbody tr th:only-of-type {\n",
       "        vertical-align: middle;\n",
       "    }\n",
       "\n",
       "    .dataframe tbody tr th {\n",
       "        vertical-align: top;\n",
       "    }\n",
       "\n",
       "    .dataframe thead th {\n",
       "        text-align: right;\n",
       "    }\n",
       "</style>\n",
       "<table border=\"1\" class=\"dataframe\">\n",
       "  <thead>\n",
       "    <tr style=\"text-align: right;\">\n",
       "      <th></th>\n",
       "      <th>Age</th>\n",
       "      <th>Sex</th>\n",
       "      <th>BP</th>\n",
       "      <th>Cholesterol</th>\n",
       "      <th>Na_to_K</th>\n",
       "      <th>Drug</th>\n",
       "    </tr>\n",
       "  </thead>\n",
       "  <tbody>\n",
       "    <tr>\n",
       "      <th>0</th>\n",
       "      <td>23</td>\n",
       "      <td>F</td>\n",
       "      <td>HIGH</td>\n",
       "      <td>HIGH</td>\n",
       "      <td>25.355</td>\n",
       "      <td>DrugY</td>\n",
       "    </tr>\n",
       "    <tr>\n",
       "      <th>1</th>\n",
       "      <td>47</td>\n",
       "      <td>M</td>\n",
       "      <td>LOW</td>\n",
       "      <td>HIGH</td>\n",
       "      <td>13.093</td>\n",
       "      <td>drugC</td>\n",
       "    </tr>\n",
       "    <tr>\n",
       "      <th>2</th>\n",
       "      <td>47</td>\n",
       "      <td>M</td>\n",
       "      <td>LOW</td>\n",
       "      <td>HIGH</td>\n",
       "      <td>10.114</td>\n",
       "      <td>drugC</td>\n",
       "    </tr>\n",
       "    <tr>\n",
       "      <th>3</th>\n",
       "      <td>28</td>\n",
       "      <td>F</td>\n",
       "      <td>NORMAL</td>\n",
       "      <td>HIGH</td>\n",
       "      <td>7.798</td>\n",
       "      <td>drugX</td>\n",
       "    </tr>\n",
       "    <tr>\n",
       "      <th>4</th>\n",
       "      <td>61</td>\n",
       "      <td>F</td>\n",
       "      <td>LOW</td>\n",
       "      <td>HIGH</td>\n",
       "      <td>18.043</td>\n",
       "      <td>DrugY</td>\n",
       "    </tr>\n",
       "  </tbody>\n",
       "</table>\n",
       "</div>"
      ],
      "text/plain": [
       "   Age Sex      BP Cholesterol  Na_to_K   Drug\n",
       "0   23   F    HIGH        HIGH   25.355  DrugY\n",
       "1   47   M     LOW        HIGH   13.093  drugC\n",
       "2   47   M     LOW        HIGH   10.114  drugC\n",
       "3   28   F  NORMAL        HIGH    7.798  drugX\n",
       "4   61   F     LOW        HIGH   18.043  DrugY"
      ]
     },
     "execution_count": 2,
     "metadata": {},
     "output_type": "execute_result"
    }
   ],
   "source": [
    "#to load csv file\n",
    "df=pd.read_csv(\"drug200.csv\")\n",
    "df.head()"
   ]
  },
  {
   "cell_type": "code",
   "execution_count": 3,
   "id": "09695845",
   "metadata": {},
   "outputs": [
    {
     "data": {
      "text/plain": [
       "(200, 6)"
      ]
     },
     "execution_count": 3,
     "metadata": {},
     "output_type": "execute_result"
    }
   ],
   "source": [
    "df.shape"
   ]
  },
  {
   "cell_type": "code",
   "execution_count": 4,
   "id": "3013ba6b",
   "metadata": {},
   "outputs": [
    {
     "data": {
      "text/plain": [
       "array(['DrugY', 'drugC', 'drugX', 'drugA', 'drugB'], dtype=object)"
      ]
     },
     "execution_count": 4,
     "metadata": {},
     "output_type": "execute_result"
    }
   ],
   "source": [
    "df['Drug'].unique()"
   ]
  },
  {
   "cell_type": "code",
   "execution_count": 5,
   "id": "a75e6f64",
   "metadata": {},
   "outputs": [
    {
     "name": "stdout",
     "output_type": "stream",
     "text": [
      "Age            0\n",
      "Sex            0\n",
      "BP             0\n",
      "Cholesterol    0\n",
      "Na_to_K        0\n",
      "Drug           0\n",
      "dtype: int64\n"
     ]
    },
    {
     "data": {
      "image/png": "[encoded data removed]",
      "text/plain": [
       "<Figure size 432x288 with 2 Axes>"
      ]
     },
     "metadata": {
      "needs_background": "light"
     },
     "output_type": "display_data"
    }
   ],
   "source": [
    "#check null values\n",
    "f=df.isnull().sum()\n",
    "print(f)\n",
    "sb.heatmap(df.isnull())\n",
    "plt.show()"
   ]
  },
  {
   "cell_type": "code",
   "execution_count": 6,
   "id": "93d8f385",
   "metadata": {},
   "outputs": [
    {
     "data": {
      "text/plain": [
       "Age              int64\n",
       "Sex             object\n",
       "BP              object\n",
       "Cholesterol     object\n",
       "Na_to_K        float64\n",
       "Drug            object\n",
       "dtype: object"
      ]
     },
     "execution_count": 6,
     "metadata": {},
     "output_type": "execute_result"
    }
   ],
   "source": [
    "#check datatypes\n",
    "df.dtypes"
   ]
  },
  {
   "cell_type": "code",
   "execution_count": 7,
   "id": "dcb28107",
   "metadata": {},
   "outputs": [
    {
     "data": {
      "text/plain": [
       "0"
      ]
     },
     "execution_count": 7,
     "metadata": {},
     "output_type": "execute_result"
    }
   ],
   "source": [
    "#check duplicates values\n",
    "df.duplicated().sum()\n",
    "#here is no duplicate value"
   ]
  },
  {
   "cell_type": "code",
   "execution_count": 8,
   "id": "4e3614f0",
   "metadata": {},
   "outputs": [],
   "source": [
    "#first convert object type data to int type use label encoder\n",
    "from sklearn.preprocessing import LabelEncoder\n",
    "#create object of LabelEncoder class\n",
    "le=LabelEncoder()\n",
    "df['Sex']=le.fit_transform(df['Sex'])\n",
    "df['BP']=le.fit_transform(df['BP'])\n",
    "df['Cholesterol']=le.fit_transform(df['Cholesterol'])\n",
    "df['Drug']=le.fit_transform(df['Drug'])"
   ]
  },
  {
   "cell_type": "code",
   "execution_count": 9,
   "id": "055d8590",
   "metadata": {},
   "outputs": [
    {
     "data": {
      "text/html": [
       "<div>\n",
       "<style scoped>\n",
       "    .dataframe tbody tr th:only-of-type {\n",
       "        vertical-align: middle;\n",
       "    }\n",
       "\n",
       "    .dataframe tbody tr th {\n",
       "        vertical-align: top;\n",
       "    }\n",
       "\n",
       "    .dataframe thead th {\n",
       "        text-align: right;\n",
       "    }\n",
       "</style>\n",
       "<table border=\"1\" class=\"dataframe\">\n",
       "  <thead>\n",
       "    <tr style=\"text-align: right;\">\n",
       "      <th></th>\n",
       "      <th>Age</th>\n",
       "      <th>Sex</th>\n",
       "      <th>BP</th>\n",
       "      <th>Cholesterol</th>\n",
       "      <th>Na_to_K</th>\n",
       "      <th>Drug</th>\n",
       "    </tr>\n",
       "  </thead>\n",
       "  <tbody>\n",
       "    <tr>\n",
       "      <th>0</th>\n",
       "      <td>23</td>\n",
       "      <td>0</td>\n",
       "      <td>0</td>\n",
       "      <td>0</td>\n",
       "      <td>25.355</td>\n",
       "      <td>0</td>\n",
       "    </tr>\n",
       "    <tr>\n",
       "      <th>1</th>\n",
       "      <td>47</td>\n",
       "      <td>1</td>\n",
       "      <td>1</td>\n",
       "      <td>0</td>\n",
       "      <td>13.093</td>\n",
       "      <td>3</td>\n",
       "    </tr>\n",
       "    <tr>\n",
       "      <th>2</th>\n",
       "      <td>47</td>\n",
       "      <td>1</td>\n",
       "      <td>1</td>\n",
       "      <td>0</td>\n",
       "      <td>10.114</td>\n",
       "      <td>3</td>\n",
       "    </tr>\n",
       "    <tr>\n",
       "      <th>3</th>\n",
       "      <td>28</td>\n",
       "      <td>0</td>\n",
       "      <td>2</td>\n",
       "      <td>0</td>\n",
       "      <td>7.798</td>\n",
       "      <td>4</td>\n",
       "    </tr>\n",
       "    <tr>\n",
       "      <th>4</th>\n",
       "      <td>61</td>\n",
       "      <td>0</td>\n",
       "      <td>1</td>\n",
       "      <td>0</td>\n",
       "      <td>18.043</td>\n",
       "      <td>0</td>\n",
       "    </tr>\n",
       "  </tbody>\n",
       "</table>\n",
       "</div>"
      ],
      "text/plain": [
       "   Age  Sex  BP  Cholesterol  Na_to_K  Drug\n",
       "0   23    0   0            0   25.355     0\n",
       "1   47    1   1            0   13.093     3\n",
       "2   47    1   1            0   10.114     3\n",
       "3   28    0   2            0    7.798     4\n",
       "4   61    0   1            0   18.043     0"
      ]
     },
     "execution_count": 9,
     "metadata": {},
     "output_type": "execute_result"
    }
   ],
   "source": [
    "df.head()"
   ]
  },
  {
   "cell_type": "code",
   "execution_count": 10,
   "id": "e08a42f5",
   "metadata": {},
   "outputs": [
    {
     "name": "stdout",
     "output_type": "stream",
     "text": [
      "0    91\n",
      "4    54\n",
      "1    23\n",
      "3    16\n",
      "2    16\n",
      "Name: Drug, dtype: int64\n"
     ]
    },
    {
     "data": {
      "image/png": "[encoded data removed]",
      "text/plain": [
       "<Figure size 432x288 with 1 Axes>"
      ]
     },
     "metadata": {
      "needs_background": "light"
     },
     "output_type": "display_data"
    }
   ],
   "source": [
    "#check data is bal or not\n",
    "f=df['Drug'].value_counts()\n",
    "sb.countplot(data=df,x='Drug')\n",
    "print(f)\n",
    "plt.yticks(f)\n",
    "plt.show()"
   ]
  },
  {
   "cell_type": "code",
   "execution_count": 11,
   "id": "7b4b4fed",
   "metadata": {},
   "outputs": [
    {
     "data": {
      "text/plain": [
       "Age              int64\n",
       "Sex              int64\n",
       "BP               int64\n",
       "Cholesterol      int64\n",
       "Na_to_K        float64\n",
       "Drug             int64\n",
       "dtype: object"
      ]
     },
     "execution_count": 11,
     "metadata": {},
     "output_type": "execute_result"
    }
   ],
   "source": [
    "#check datatypes\n",
    "df.dtypes"
   ]
  },
  {
   "cell_type": "code",
   "execution_count": 12,
   "id": "ff02f6da",
   "metadata": {},
   "outputs": [],
   "source": [
    "#selct input and output\n",
    "X=df.drop(\"Drug\",axis=1) #select input\n",
    "Y=df['Drug'] #select output"
   ]
  },
  {
   "cell_type": "code",
   "execution_count": 13,
   "id": "e73496a0",
   "metadata": {},
   "outputs": [
    {
     "data": {
      "text/plain": [
       "(200, 5)"
      ]
     },
     "execution_count": 13,
     "metadata": {},
     "output_type": "execute_result"
    }
   ],
   "source": [
    "X.shape"
   ]
  },
  {
   "cell_type": "code",
   "execution_count": 14,
   "id": "9abc005a",
   "metadata": {},
   "outputs": [],
   "source": [
    "#if we have more than two class use SMOTE inbuild class\n",
    "from imblearn.over_sampling import SMOTE\n",
    "X1,Y1=SMOTE().fit_resample(X,Y)"
   ]
  },
  {
   "cell_type": "code",
   "execution_count": 15,
   "id": "fd0f4734",
   "metadata": {},
   "outputs": [
    {
     "data": {
      "text/plain": [
       "0    91\n",
       "3    91\n",
       "4    91\n",
       "1    91\n",
       "2    91\n",
       "Name: Drug, dtype: int64"
      ]
     },
     "execution_count": 15,
     "metadata": {},
     "output_type": "execute_result"
    }
   ],
   "source": [
    "Y1.value_counts()"
   ]
  },
  {
   "cell_type": "code",
   "execution_count": 16,
   "id": "8d048166",
   "metadata": {},
   "outputs": [],
   "source": [
    "#train test\n",
    "#apply train test split on train data\n",
    "from sklearn.model_selection import train_test_split\n",
    "\n",
    "X_train,X_test,Y_train,Y_test=train_test_split(X1,Y1,test_size=0.3,\n",
    "                                              random_state=1,stratify=Y1)"
   ]
  },
  {
   "cell_type": "code",
   "execution_count": 17,
   "id": "f1a098b4",
   "metadata": {},
   "outputs": [],
   "source": [
    "#apply standard scaler\n",
    "from sklearn.preprocessing import StandardScaler"
   ]
  },
  {
   "cell_type": "code",
   "execution_count": 18,
   "id": "3692e085",
   "metadata": {},
   "outputs": [],
   "source": [
    "ss=StandardScaler()\n",
    "X_train=ss.fit_transform(X_train) #convert into numpy array\n",
    "X_test=ss.transform(X_test)#convert into numpy array"
   ]
  },
  {
   "cell_type": "code",
   "execution_count": 19,
   "id": "54afdba1",
   "metadata": {},
   "outputs": [
    {
     "data": {
      "text/plain": [
       "4    64\n",
       "2    64\n",
       "1    64\n",
       "3    63\n",
       "0    63\n",
       "Name: Drug, dtype: int64"
      ]
     },
     "execution_count": 19,
     "metadata": {},
     "output_type": "execute_result"
    }
   ],
   "source": [
    "Y_train.value_counts()"
   ]
  },
  {
   "cell_type": "code",
   "execution_count": 20,
   "id": "67c5cdcc",
   "metadata": {},
   "outputs": [
    {
     "data": {
      "text/plain": [
       "0    28\n",
       "3    28\n",
       "2    27\n",
       "1    27\n",
       "4    27\n",
       "Name: Drug, dtype: int64"
      ]
     },
     "execution_count": 20,
     "metadata": {},
     "output_type": "execute_result"
    }
   ],
   "source": [
    "Y_test.value_counts()"
   ]
  },
  {
   "cell_type": "code",
   "execution_count": 21,
   "id": "f640b5b3",
   "metadata": {},
   "outputs": [],
   "source": [
    "#create fn\n",
    "def create_model(model):\n",
    "    \n",
    "    #train data with 70%\n",
    "    model.fit(X_train,Y_train)\n",
    "    #test datawith 30%\n",
    "    Y_pred=model.predict(X_test)\n",
    "    #generate report\n",
    "    print(classification_report(Y_test,Y_pred))\n",
    "    print(confusion_matrix(Y_test,Y_pred))\n",
    "    \n",
    "    return model"
   ]
  },
  {
   "cell_type": "code",
   "execution_count": 22,
   "id": "d68c963d",
   "metadata": {},
   "outputs": [],
   "source": [
    "from sklearn.metrics import classification_report,confusion_matrix"
   ]
  },
  {
   "cell_type": "code",
   "execution_count": 23,
   "id": "2d656d6b",
   "metadata": {},
   "outputs": [],
   "source": [
    "#give dataset to logistregression\n",
    "from sklearn.linear_model import LogisticRegression\n",
    "#create object of class\n",
    "lr=LogisticRegression()"
   ]
  },
  {
   "cell_type": "code",
   "execution_count": 24,
   "id": "fe39722e",
   "metadata": {},
   "outputs": [
    {
     "name": "stdout",
     "output_type": "stream",
     "text": [
      "              precision    recall  f1-score   support\n",
      "\n",
      "           0       0.96      0.89      0.93        28\n",
      "           1       1.00      1.00      1.00        27\n",
      "           2       0.93      1.00      0.96        27\n",
      "           3       0.97      1.00      0.98        28\n",
      "           4       0.96      0.93      0.94        27\n",
      "\n",
      "    accuracy                           0.96       137\n",
      "   macro avg       0.96      0.96      0.96       137\n",
      "weighted avg       0.96      0.96      0.96       137\n",
      "\n",
      "[[25  0  2  0  1]\n",
      " [ 0 27  0  0  0]\n",
      " [ 0  0 27  0  0]\n",
      " [ 0  0  0 28  0]\n",
      " [ 1  0  0  1 25]]\n"
     ]
    }
   ],
   "source": [
    "#call fn\n",
    "lr=create_model(lr)"
   ]
  },
  {
   "cell_type": "code",
   "execution_count": 25,
   "id": "05004a7f",
   "metadata": {},
   "outputs": [],
   "source": [
    "#give dataset to decision tree classifier"
   ]
  },
  {
   "cell_type": "code",
   "execution_count": 26,
   "id": "39993566",
   "metadata": {},
   "outputs": [],
   "source": [
    "from sklearn.tree import DecisionTreeClassifier"
   ]
  },
  {
   "cell_type": "code",
   "execution_count": 27,
   "id": "f24397c4",
   "metadata": {},
   "outputs": [],
   "source": [
    "#create object of DecisionTreeClassifier class\n",
    "dt=DecisionTreeClassifier(random_state=1) #by default gini"
   ]
  },
  {
   "cell_type": "code",
   "execution_count": 28,
   "id": "9a65766e",
   "metadata": {},
   "outputs": [
    {
     "name": "stdout",
     "output_type": "stream",
     "text": [
      "              precision    recall  f1-score   support\n",
      "\n",
      "           0       1.00      1.00      1.00        28\n",
      "           1       1.00      1.00      1.00        27\n",
      "           2       1.00      1.00      1.00        27\n",
      "           3       0.96      0.93      0.95        28\n",
      "           4       0.93      0.96      0.95        27\n",
      "\n",
      "    accuracy                           0.98       137\n",
      "   macro avg       0.98      0.98      0.98       137\n",
      "weighted avg       0.98      0.98      0.98       137\n",
      "\n",
      "[[28  0  0  0  0]\n",
      " [ 0 27  0  0  0]\n",
      " [ 0  0 27  0  0]\n",
      " [ 0  0  0 26  2]\n",
      " [ 0  0  0  1 26]]\n"
     ]
    }
   ],
   "source": [
    "#call fn\n",
    "dt=create_model(dt)"
   ]
  },
  {
   "cell_type": "code",
   "execution_count": 29,
   "id": "485e1b7b",
   "metadata": {},
   "outputs": [
    {
     "data": {
      "text/html": [
       "<div>\n",
       "<style scoped>\n",
       "    .dataframe tbody tr th:only-of-type {\n",
       "        vertical-align: middle;\n",
       "    }\n",
       "\n",
       "    .dataframe tbody tr th {\n",
       "        vertical-align: top;\n",
       "    }\n",
       "\n",
       "    .dataframe thead th {\n",
       "        text-align: right;\n",
       "    }\n",
       "</style>\n",
       "<table border=\"1\" class=\"dataframe\">\n",
       "  <thead>\n",
       "    <tr style=\"text-align: right;\">\n",
       "      <th></th>\n",
       "      <th>input</th>\n",
       "      <th>IG</th>\n",
       "    </tr>\n",
       "  </thead>\n",
       "  <tbody>\n",
       "    <tr>\n",
       "      <th>0</th>\n",
       "      <td>BP</td>\n",
       "      <td>0.351605</td>\n",
       "    </tr>\n",
       "    <tr>\n",
       "      <th>1</th>\n",
       "      <td>Na_to_K</td>\n",
       "      <td>0.261531</td>\n",
       "    </tr>\n",
       "    <tr>\n",
       "      <th>2</th>\n",
       "      <td>Age</td>\n",
       "      <td>0.260509</td>\n",
       "    </tr>\n",
       "    <tr>\n",
       "      <th>3</th>\n",
       "      <td>Cholesterol</td>\n",
       "      <td>0.119018</td>\n",
       "    </tr>\n",
       "    <tr>\n",
       "      <th>4</th>\n",
       "      <td>Sex</td>\n",
       "      <td>0.007338</td>\n",
       "    </tr>\n",
       "  </tbody>\n",
       "</table>\n",
       "</div>"
      ],
      "text/plain": [
       "         input        IG\n",
       "0           BP  0.351605\n",
       "1      Na_to_K  0.261531\n",
       "2          Age  0.260509\n",
       "3  Cholesterol  0.119018\n",
       "4          Sex  0.007338"
      ]
     },
     "execution_count": 29,
     "metadata": {},
     "output_type": "execute_result"
    }
   ],
   "source": [
    "#check information gain :\n",
    "dict={\"input\":X.columns,\"IG\":dt.feature_importances_}\n",
    "df1=pd.DataFrame(dict)\n",
    "#sorting in desending order\n",
    "#change record no as per sorting\n",
    "df1.sort_values('IG',ascending=False,ignore_index=True)"
   ]
  },
  {
   "cell_type": "raw",
   "id": "1ba55267",
   "metadata": {},
   "source": [
    "#apply pruning techniq\n",
    "#1.max depth\n",
    "\n",
    "for i in range (1,9):\n",
    "    #create object of DecisionTreeClassifier class\n",
    "    dt1=DecisionTreeClassifier(random_state=1,max_depth=i)\n",
    "    print(\"max depth \",i)\n",
    "    #call fn\n",
    "    dt1=create_model(dt1)"
   ]
  },
  {
   "cell_type": "code",
   "execution_count": 30,
   "id": "766431b0",
   "metadata": {},
   "outputs": [
    {
     "name": "stdout",
     "output_type": "stream",
     "text": [
      "              precision    recall  f1-score   support\n",
      "\n",
      "           0       1.00      1.00      1.00        28\n",
      "           1       1.00      1.00      1.00        27\n",
      "           2       1.00      1.00      1.00        27\n",
      "           3       0.93      1.00      0.97        28\n",
      "           4       1.00      0.93      0.96        27\n",
      "\n",
      "    accuracy                           0.99       137\n",
      "   macro avg       0.99      0.99      0.99       137\n",
      "weighted avg       0.99      0.99      0.99       137\n",
      "\n",
      "[[28  0  0  0  0]\n",
      " [ 0 27  0  0  0]\n",
      " [ 0  0 27  0  0]\n",
      " [ 0  0  0 28  0]\n",
      " [ 0  0  0  2 25]]\n"
     ]
    }
   ],
   "source": [
    "dt1=DecisionTreeClassifier(random_state=1,max_depth=4)\n",
    "#call fn\n",
    "dt1=create_model(dt1)"
   ]
  },
  {
   "cell_type": "code",
   "execution_count": 31,
   "id": "f30dfbc9",
   "metadata": {},
   "outputs": [
    {
     "data": {
      "text/html": [
       "<div>\n",
       "<style scoped>\n",
       "    .dataframe tbody tr th:only-of-type {\n",
       "        vertical-align: middle;\n",
       "    }\n",
       "\n",
       "    .dataframe tbody tr th {\n",
       "        vertical-align: top;\n",
       "    }\n",
       "\n",
       "    .dataframe thead th {\n",
       "        text-align: right;\n",
       "    }\n",
       "</style>\n",
       "<table border=\"1\" class=\"dataframe\">\n",
       "  <thead>\n",
       "    <tr style=\"text-align: right;\">\n",
       "      <th></th>\n",
       "      <th>Input</th>\n",
       "      <th>IG</th>\n",
       "    </tr>\n",
       "  </thead>\n",
       "  <tbody>\n",
       "    <tr>\n",
       "      <th>0</th>\n",
       "      <td>BP</td>\n",
       "      <td>0.362319</td>\n",
       "    </tr>\n",
       "    <tr>\n",
       "      <th>1</th>\n",
       "      <td>Age</td>\n",
       "      <td>0.259242</td>\n",
       "    </tr>\n",
       "    <tr>\n",
       "      <th>2</th>\n",
       "      <td>Na_to_K</td>\n",
       "      <td>0.255795</td>\n",
       "    </tr>\n",
       "    <tr>\n",
       "      <th>3</th>\n",
       "      <td>Cholesterol</td>\n",
       "      <td>0.122644</td>\n",
       "    </tr>\n",
       "    <tr>\n",
       "      <th>4</th>\n",
       "      <td>Sex</td>\n",
       "      <td>0.000000</td>\n",
       "    </tr>\n",
       "  </tbody>\n",
       "</table>\n",
       "</div>"
      ],
      "text/plain": [
       "         Input        IG\n",
       "0           BP  0.362319\n",
       "1          Age  0.259242\n",
       "2      Na_to_K  0.255795\n",
       "3  Cholesterol  0.122644\n",
       "4          Sex  0.000000"
      ]
     },
     "execution_count": 31,
     "metadata": {},
     "output_type": "execute_result"
    }
   ],
   "source": [
    "#check information gain\n",
    "dict={\"Input\":X.columns,\"IG\":dt1.feature_importances_}\n",
    "#convert to dataframe\n",
    "df2=pd.DataFrame(dict)\n",
    "#sorting\n",
    "df2.sort_values(\"IG\",ascending=False,ignore_index=True)"
   ]
  },
  {
   "cell_type": "raw",
   "id": "c7e47a5e",
   "metadata": {},
   "source": [
    "#to create tree\n",
    "from sklearn import tree\n",
    "features=X.columns\n",
    "plt.figure(figsize=(70,70))\n",
    "_=tree.plot_tree(dt1,feature_names=features,filled=True)\n",
    "plt.show()"
   ]
  },
  {
   "cell_type": "code",
   "execution_count": 32,
   "id": "d598c673",
   "metadata": {},
   "outputs": [],
   "source": [
    "#apply second pruning technique min_samples_leaf"
   ]
  },
  {
   "cell_type": "raw",
   "id": "263882da",
   "metadata": {},
   "source": [
    "for i in range (45,101):\n",
    "    #create object of decisiontreeclassifier\n",
    "    dt2=DecisionTreeClassifier(random_state=1,min_samples_leaf=i)\n",
    "    print(\"min sample leaf \",i)\n",
    "    #call fn\n",
    "    dt2=create_model(dt2)"
   ]
  },
  {
   "cell_type": "code",
   "execution_count": 33,
   "id": "726ee9cf",
   "metadata": {},
   "outputs": [
    {
     "name": "stdout",
     "output_type": "stream",
     "text": [
      "              precision    recall  f1-score   support\n",
      "\n",
      "           0       1.00      1.00      1.00        28\n",
      "           1       1.00      1.00      1.00        27\n",
      "           2       1.00      1.00      1.00        27\n",
      "           3       0.69      0.79      0.73        28\n",
      "           4       0.74      0.63      0.68        27\n",
      "\n",
      "    accuracy                           0.88       137\n",
      "   macro avg       0.89      0.88      0.88       137\n",
      "weighted avg       0.88      0.88      0.88       137\n",
      "\n",
      "[[28  0  0  0  0]\n",
      " [ 0 27  0  0  0]\n",
      " [ 0  0 27  0  0]\n",
      " [ 0  0  0 22  6]\n",
      " [ 0  0  0 10 17]]\n"
     ]
    }
   ],
   "source": [
    "#create object of decisiontreeclassifier\n",
    "dt2=DecisionTreeClassifier(random_state=1,min_samples_leaf=45)\n",
    "#call fn\n",
    "dt2=create_model(dt2)"
   ]
  },
  {
   "cell_type": "code",
   "execution_count": 34,
   "id": "70f0f10b",
   "metadata": {},
   "outputs": [
    {
     "data": {
      "text/html": [
       "<div>\n",
       "<style scoped>\n",
       "    .dataframe tbody tr th:only-of-type {\n",
       "        vertical-align: middle;\n",
       "    }\n",
       "\n",
       "    .dataframe tbody tr th {\n",
       "        vertical-align: top;\n",
       "    }\n",
       "\n",
       "    .dataframe thead th {\n",
       "        text-align: right;\n",
       "    }\n",
       "</style>\n",
       "<table border=\"1\" class=\"dataframe\">\n",
       "  <thead>\n",
       "    <tr style=\"text-align: right;\">\n",
       "      <th></th>\n",
       "      <th>input</th>\n",
       "      <th>IG</th>\n",
       "    </tr>\n",
       "  </thead>\n",
       "  <tbody>\n",
       "    <tr>\n",
       "      <th>0</th>\n",
       "      <td>Na_to_K</td>\n",
       "      <td>0.337564</td>\n",
       "    </tr>\n",
       "    <tr>\n",
       "      <th>1</th>\n",
       "      <td>Age</td>\n",
       "      <td>0.331863</td>\n",
       "    </tr>\n",
       "    <tr>\n",
       "      <th>2</th>\n",
       "      <td>BP</td>\n",
       "      <td>0.330572</td>\n",
       "    </tr>\n",
       "    <tr>\n",
       "      <th>3</th>\n",
       "      <td>Sex</td>\n",
       "      <td>0.000000</td>\n",
       "    </tr>\n",
       "    <tr>\n",
       "      <th>4</th>\n",
       "      <td>Cholesterol</td>\n",
       "      <td>0.000000</td>\n",
       "    </tr>\n",
       "  </tbody>\n",
       "</table>\n",
       "</div>"
      ],
      "text/plain": [
       "         input        IG\n",
       "0      Na_to_K  0.337564\n",
       "1          Age  0.331863\n",
       "2           BP  0.330572\n",
       "3          Sex  0.000000\n",
       "4  Cholesterol  0.000000"
      ]
     },
     "execution_count": 34,
     "metadata": {},
     "output_type": "execute_result"
    }
   ],
   "source": [
    "#check information gain\n",
    "dict={\"input\":X.columns,\"IG\":dt2.feature_importances_}\n",
    "#convert to dataframe\n",
    "df3=pd.DataFrame(dict)\n",
    "#sorting\n",
    "df3.sort_values(\"IG\",ascending=False,ignore_index=True)\n",
    "#here not imp features get o"
   ]
  },
  {
   "cell_type": "raw",
   "id": "cd13670d",
   "metadata": {},
   "source": [
    "#to create tree\n",
    "from sklearn import tree\n",
    "features=X.columns\n",
    "plt.figure(figsize=(70,70))\n",
    "_=tree.plot_tree(dt2,feature_names=features,filled=True)\n",
    "plt.show()"
   ]
  },
  {
   "cell_type": "code",
   "execution_count": 35,
   "id": "39a026e8",
   "metadata": {},
   "outputs": [],
   "source": [
    "#give dataset to DecisionTreeClassifier Entropy"
   ]
  },
  {
   "cell_type": "code",
   "execution_count": 36,
   "id": "e0fce294",
   "metadata": {},
   "outputs": [],
   "source": [
    "#create object of DecisionTreeClassifier class\n",
    "dt_entropy=DecisionTreeClassifier(random_state=1,criterion='entropy')"
   ]
  },
  {
   "cell_type": "code",
   "execution_count": 37,
   "id": "a3e34ae1",
   "metadata": {},
   "outputs": [
    {
     "name": "stdout",
     "output_type": "stream",
     "text": [
      "              precision    recall  f1-score   support\n",
      "\n",
      "           0       1.00      0.96      0.98        28\n",
      "           1       1.00      1.00      1.00        27\n",
      "           2       0.96      1.00      0.98        27\n",
      "           3       0.96      0.93      0.95        28\n",
      "           4       0.93      0.96      0.95        27\n",
      "\n",
      "    accuracy                           0.97       137\n",
      "   macro avg       0.97      0.97      0.97       137\n",
      "weighted avg       0.97      0.97      0.97       137\n",
      "\n",
      "[[27  0  1  0  0]\n",
      " [ 0 27  0  0  0]\n",
      " [ 0  0 27  0  0]\n",
      " [ 0  0  0 26  2]\n",
      " [ 0  0  0  1 26]]\n"
     ]
    }
   ],
   "source": [
    "#call fn\n",
    "dt_entropy=create_model(dt_entropy)"
   ]
  },
  {
   "cell_type": "code",
   "execution_count": 38,
   "id": "e3ed90e2",
   "metadata": {},
   "outputs": [
    {
     "data": {
      "text/html": [
       "<div>\n",
       "<style scoped>\n",
       "    .dataframe tbody tr th:only-of-type {\n",
       "        vertical-align: middle;\n",
       "    }\n",
       "\n",
       "    .dataframe tbody tr th {\n",
       "        vertical-align: top;\n",
       "    }\n",
       "\n",
       "    .dataframe thead th {\n",
       "        text-align: right;\n",
       "    }\n",
       "</style>\n",
       "<table border=\"1\" class=\"dataframe\">\n",
       "  <thead>\n",
       "    <tr style=\"text-align: right;\">\n",
       "      <th></th>\n",
       "      <th>input</th>\n",
       "      <th>IG</th>\n",
       "    </tr>\n",
       "  </thead>\n",
       "  <tbody>\n",
       "    <tr>\n",
       "      <th>0</th>\n",
       "      <td>BP</td>\n",
       "      <td>0.411512</td>\n",
       "    </tr>\n",
       "    <tr>\n",
       "      <th>1</th>\n",
       "      <td>Na_to_K</td>\n",
       "      <td>0.316109</td>\n",
       "    </tr>\n",
       "    <tr>\n",
       "      <th>2</th>\n",
       "      <td>Age</td>\n",
       "      <td>0.188516</td>\n",
       "    </tr>\n",
       "    <tr>\n",
       "      <th>3</th>\n",
       "      <td>Cholesterol</td>\n",
       "      <td>0.077817</td>\n",
       "    </tr>\n",
       "    <tr>\n",
       "      <th>4</th>\n",
       "      <td>Sex</td>\n",
       "      <td>0.006046</td>\n",
       "    </tr>\n",
       "  </tbody>\n",
       "</table>\n",
       "</div>"
      ],
      "text/plain": [
       "         input        IG\n",
       "0           BP  0.411512\n",
       "1      Na_to_K  0.316109\n",
       "2          Age  0.188516\n",
       "3  Cholesterol  0.077817\n",
       "4          Sex  0.006046"
      ]
     },
     "execution_count": 38,
     "metadata": {},
     "output_type": "execute_result"
    }
   ],
   "source": [
    "#check IG\n",
    "dict={\"input\":X.columns,\"IG\":dt_entropy.feature_importances_}\n",
    "#convert to dataframe\n",
    "df4=pd.DataFrame(dict)\n",
    "#sorting\n",
    "df4.sort_values(\"IG\",ascending=False,ignore_index=True)"
   ]
  },
  {
   "cell_type": "raw",
   "id": "59d99704",
   "metadata": {},
   "source": [
    "#draw tree\n",
    "from sklearn import tree\n",
    "features=X.columns\n",
    "plt.figure(figsize=(70,70))\n",
    "_=tree.plot_tree(dt_entropy,feature_names=features,filled=True)\n",
    "plt.show()"
   ]
  },
  {
   "cell_type": "raw",
   "id": "30c2ac32",
   "metadata": {},
   "source": [
    "#apply pruning techniq\n",
    "#1.max depth\n",
    "\n",
    "for i in range (1,9):\n",
    "    #create object of DecisionTreeClassifier class\n",
    "    dt_entropy1=DecisionTreeClassifier(random_state=1,max_depth=i,criterion='entropy')\n",
    "    print(\"max depth \",i)\n",
    "    #call fn\n",
    "    dt_entropy1=create_model(dt_entropy1)"
   ]
  },
  {
   "cell_type": "code",
   "execution_count": 39,
   "id": "14023be4",
   "metadata": {},
   "outputs": [
    {
     "name": "stdout",
     "output_type": "stream",
     "text": [
      "              precision    recall  f1-score   support\n",
      "\n",
      "           0       1.00      0.96      0.98        28\n",
      "           1       1.00      1.00      1.00        27\n",
      "           2       0.96      1.00      0.98        27\n",
      "           3       0.76      1.00      0.86        28\n",
      "           4       1.00      0.67      0.80        27\n",
      "\n",
      "    accuracy                           0.93       137\n",
      "   macro avg       0.94      0.93      0.93       137\n",
      "weighted avg       0.94      0.93      0.92       137\n",
      "\n",
      "[[27  0  1  0  0]\n",
      " [ 0 27  0  0  0]\n",
      " [ 0  0 27  0  0]\n",
      " [ 0  0  0 28  0]\n",
      " [ 0  0  0  9 18]]\n"
     ]
    }
   ],
   "source": [
    "#create object of DecisionTreeClassifier class\n",
    "dt_entropy1=DecisionTreeClassifier(random_state=1,max_depth=3,criterion='entropy')\n",
    "#call fn\n",
    "dt_entropy1=create_model(dt_entropy1)"
   ]
  },
  {
   "cell_type": "code",
   "execution_count": 40,
   "id": "a8dd759b",
   "metadata": {},
   "outputs": [
    {
     "data": {
      "text/html": [
       "<div>\n",
       "<style scoped>\n",
       "    .dataframe tbody tr th:only-of-type {\n",
       "        vertical-align: middle;\n",
       "    }\n",
       "\n",
       "    .dataframe tbody tr th {\n",
       "        vertical-align: top;\n",
       "    }\n",
       "\n",
       "    .dataframe thead th {\n",
       "        text-align: right;\n",
       "    }\n",
       "</style>\n",
       "<table border=\"1\" class=\"dataframe\">\n",
       "  <thead>\n",
       "    <tr style=\"text-align: right;\">\n",
       "      <th></th>\n",
       "      <th>input</th>\n",
       "      <th>IG</th>\n",
       "    </tr>\n",
       "  </thead>\n",
       "  <tbody>\n",
       "    <tr>\n",
       "      <th>0</th>\n",
       "      <td>BP</td>\n",
       "      <td>0.461038</td>\n",
       "    </tr>\n",
       "    <tr>\n",
       "      <th>1</th>\n",
       "      <td>Na_to_K</td>\n",
       "      <td>0.341132</td>\n",
       "    </tr>\n",
       "    <tr>\n",
       "      <th>2</th>\n",
       "      <td>Age</td>\n",
       "      <td>0.197830</td>\n",
       "    </tr>\n",
       "    <tr>\n",
       "      <th>3</th>\n",
       "      <td>Sex</td>\n",
       "      <td>0.000000</td>\n",
       "    </tr>\n",
       "    <tr>\n",
       "      <th>4</th>\n",
       "      <td>Cholesterol</td>\n",
       "      <td>0.000000</td>\n",
       "    </tr>\n",
       "  </tbody>\n",
       "</table>\n",
       "</div>"
      ],
      "text/plain": [
       "         input        IG\n",
       "0           BP  0.461038\n",
       "1      Na_to_K  0.341132\n",
       "2          Age  0.197830\n",
       "3          Sex  0.000000\n",
       "4  Cholesterol  0.000000"
      ]
     },
     "execution_count": 40,
     "metadata": {},
     "output_type": "execute_result"
    }
   ],
   "source": [
    "#check IG\n",
    "dict={\"input\":X.columns,\"IG\":dt_entropy1.feature_importances_}\n",
    "#convert to dataframe\n",
    "df5=pd.DataFrame(dict)\n",
    "#sorting\n",
    "df5.sort_values(\"IG\",ascending=False,ignore_index=True)"
   ]
  },
  {
   "cell_type": "raw",
   "id": "940683a4",
   "metadata": {},
   "source": [
    "#apply second pruning tech mean sample leaf\n",
    "for i in range (45,101):\n",
    "    #create object of DT\n",
    "    dt_entropy2=DecisionTreeClassifier(random_state=1,min_samples_leaf=i,criterion='entropy')\n",
    "    print(\"min sample leaf \",i)\n",
    "    #call fn\n",
    "    dt_entropy2=create_model(dt_entropy2)"
   ]
  },
  {
   "cell_type": "code",
   "execution_count": 41,
   "id": "622025d3",
   "metadata": {},
   "outputs": [
    {
     "name": "stdout",
     "output_type": "stream",
     "text": [
      "              precision    recall  f1-score   support\n",
      "\n",
      "           0       0.89      0.57      0.70        28\n",
      "           1       0.75      1.00      0.86        27\n",
      "           2       0.90      1.00      0.95        27\n",
      "           3       0.53      0.61      0.57        28\n",
      "           4       0.48      0.37      0.42        27\n",
      "\n",
      "    accuracy                           0.71       137\n",
      "   macro avg       0.71      0.71      0.70       137\n",
      "weighted avg       0.71      0.71      0.70       137\n",
      "\n",
      "[[16  9  3  0  0]\n",
      " [ 0 27  0  0  0]\n",
      " [ 0  0 27  0  0]\n",
      " [ 0  0  0 17 11]\n",
      " [ 2  0  0 15 10]]\n"
     ]
    }
   ],
   "source": [
    "#create object of DT\n",
    "dt_entropy2=DecisionTreeClassifier(random_state=1,min_samples_leaf=45,criterion='entropy')\n",
    "#call fn\n",
    "dt_entropy2=create_model(dt_entropy2)"
   ]
  },
  {
   "cell_type": "code",
   "execution_count": 42,
   "id": "fbfce20d",
   "metadata": {},
   "outputs": [
    {
     "data": {
      "text/html": [
       "<div>\n",
       "<style scoped>\n",
       "    .dataframe tbody tr th:only-of-type {\n",
       "        vertical-align: middle;\n",
       "    }\n",
       "\n",
       "    .dataframe tbody tr th {\n",
       "        vertical-align: top;\n",
       "    }\n",
       "\n",
       "    .dataframe thead th {\n",
       "        text-align: right;\n",
       "    }\n",
       "</style>\n",
       "<table border=\"1\" class=\"dataframe\">\n",
       "  <thead>\n",
       "    <tr style=\"text-align: right;\">\n",
       "      <th></th>\n",
       "      <th>input</th>\n",
       "      <th>IG</th>\n",
       "    </tr>\n",
       "  </thead>\n",
       "  <tbody>\n",
       "    <tr>\n",
       "      <th>0</th>\n",
       "      <td>BP</td>\n",
       "      <td>0.525047</td>\n",
       "    </tr>\n",
       "    <tr>\n",
       "      <th>1</th>\n",
       "      <td>Age</td>\n",
       "      <td>0.275112</td>\n",
       "    </tr>\n",
       "    <tr>\n",
       "      <th>2</th>\n",
       "      <td>Na_to_K</td>\n",
       "      <td>0.199841</td>\n",
       "    </tr>\n",
       "    <tr>\n",
       "      <th>3</th>\n",
       "      <td>Sex</td>\n",
       "      <td>0.000000</td>\n",
       "    </tr>\n",
       "    <tr>\n",
       "      <th>4</th>\n",
       "      <td>Cholesterol</td>\n",
       "      <td>0.000000</td>\n",
       "    </tr>\n",
       "  </tbody>\n",
       "</table>\n",
       "</div>"
      ],
      "text/plain": [
       "         input        IG\n",
       "0           BP  0.525047\n",
       "1          Age  0.275112\n",
       "2      Na_to_K  0.199841\n",
       "3          Sex  0.000000\n",
       "4  Cholesterol  0.000000"
      ]
     },
     "execution_count": 42,
     "metadata": {},
     "output_type": "execute_result"
    }
   ],
   "source": [
    "#check IG\n",
    "dict={\"input\":X.columns,\"IG\":dt_entropy2.feature_importances_}\n",
    "#convert to dataframe\n",
    "df6=pd.DataFrame(dict)\n",
    "#sorting\n",
    "df6.sort_values(\"IG\",ascending=False,ignore_index=True)"
   ]
  },
  {
   "cell_type": "code",
   "execution_count": 43,
   "id": "a62e460b",
   "metadata": {},
   "outputs": [],
   "source": [
    "#give dataset to random forest classifer"
   ]
  },
  {
   "cell_type": "code",
   "execution_count": 44,
   "id": "af96e3c5",
   "metadata": {},
   "outputs": [],
   "source": [
    "from sklearn.ensemble import RandomForestClassifier"
   ]
  },
  {
   "cell_type": "raw",
   "id": "a9de86c8",
   "metadata": {},
   "source": [
    "for i in range (10,101):\n",
    "    #create object of RandomForestClassifier\n",
    "    rfc=RandomForestClassifier(n_estimators=i,random_state=1)\n",
    "    print(\"no of decision tree \",i)\n",
    "    #call fn\n",
    "    rfc=create_model(rfc)\n",
    "    #here n_estimators means take how many no. of decisiontree"
   ]
  },
  {
   "cell_type": "code",
   "execution_count": 45,
   "id": "c05e054c",
   "metadata": {},
   "outputs": [
    {
     "name": "stdout",
     "output_type": "stream",
     "text": [
      "              precision    recall  f1-score   support\n",
      "\n",
      "           0       1.00      1.00      1.00        28\n",
      "           1       1.00      1.00      1.00        27\n",
      "           2       1.00      1.00      1.00        27\n",
      "           3       0.97      1.00      0.98        28\n",
      "           4       1.00      0.96      0.98        27\n",
      "\n",
      "    accuracy                           0.99       137\n",
      "   macro avg       0.99      0.99      0.99       137\n",
      "weighted avg       0.99      0.99      0.99       137\n",
      "\n",
      "[[28  0  0  0  0]\n",
      " [ 0 27  0  0  0]\n",
      " [ 0  0 27  0  0]\n",
      " [ 0  0  0 28  0]\n",
      " [ 0  0  0  1 26]]\n"
     ]
    }
   ],
   "source": [
    "#create object of RandomForestClassifier\n",
    "rfc=RandomForestClassifier(n_estimators=11,random_state=1)\n",
    "#call fn\n",
    "rfc=create_model(rfc)"
   ]
  },
  {
   "cell_type": "code",
   "execution_count": 46,
   "id": "57de3ed4",
   "metadata": {},
   "outputs": [
    {
     "data": {
      "text/html": [
       "<div>\n",
       "<style scoped>\n",
       "    .dataframe tbody tr th:only-of-type {\n",
       "        vertical-align: middle;\n",
       "    }\n",
       "\n",
       "    .dataframe tbody tr th {\n",
       "        vertical-align: top;\n",
       "    }\n",
       "\n",
       "    .dataframe thead th {\n",
       "        text-align: right;\n",
       "    }\n",
       "</style>\n",
       "<table border=\"1\" class=\"dataframe\">\n",
       "  <thead>\n",
       "    <tr style=\"text-align: right;\">\n",
       "      <th></th>\n",
       "      <th>input</th>\n",
       "      <th>IG</th>\n",
       "    </tr>\n",
       "  </thead>\n",
       "  <tbody>\n",
       "    <tr>\n",
       "      <th>0</th>\n",
       "      <td>BP</td>\n",
       "      <td>0.354947</td>\n",
       "    </tr>\n",
       "    <tr>\n",
       "      <th>1</th>\n",
       "      <td>Na_to_K</td>\n",
       "      <td>0.309800</td>\n",
       "    </tr>\n",
       "    <tr>\n",
       "      <th>2</th>\n",
       "      <td>Age</td>\n",
       "      <td>0.230856</td>\n",
       "    </tr>\n",
       "    <tr>\n",
       "      <th>3</th>\n",
       "      <td>Cholesterol</td>\n",
       "      <td>0.090143</td>\n",
       "    </tr>\n",
       "    <tr>\n",
       "      <th>4</th>\n",
       "      <td>Sex</td>\n",
       "      <td>0.014255</td>\n",
       "    </tr>\n",
       "  </tbody>\n",
       "</table>\n",
       "</div>"
      ],
      "text/plain": [
       "         input        IG\n",
       "0           BP  0.354947\n",
       "1      Na_to_K  0.309800\n",
       "2          Age  0.230856\n",
       "3  Cholesterol  0.090143\n",
       "4          Sex  0.014255"
      ]
     },
     "execution_count": 46,
     "metadata": {},
     "output_type": "execute_result"
    }
   ],
   "source": [
    "#check information gain :\n",
    "dict={\"input\":X.columns,\"IG\":rfc.feature_importances_}\n",
    "#convert dict to dataframe\n",
    "df1=pd.DataFrame(dict)\n",
    "#sorting in desending order\n",
    "#change record no as per sorting\n",
    "df1.sort_values('IG',ascending=False,ignore_index=True)"
   ]
  },
  {
   "cell_type": "raw",
   "id": "d1efd7e9",
   "metadata": {},
   "source": [
    "#apply Pruning Technique:max_depth :\n",
    "for i in range(1,9): #start=1 stop=9-1=8 step=+1\n",
    "    rfc1=RandomForestClassifier(n_estimators=11,random_state=1,max_depth=i) \n",
    "    print(\"max depth : \",i)\n",
    "    #call function \n",
    "    rfc1=create_model(rfc1)"
   ]
  },
  {
   "cell_type": "code",
   "execution_count": 47,
   "id": "69354400",
   "metadata": {},
   "outputs": [
    {
     "name": "stdout",
     "output_type": "stream",
     "text": [
      "              precision    recall  f1-score   support\n",
      "\n",
      "           0       1.00      1.00      1.00        28\n",
      "           1       1.00      1.00      1.00        27\n",
      "           2       1.00      1.00      1.00        27\n",
      "           3       0.97      1.00      0.98        28\n",
      "           4       1.00      0.96      0.98        27\n",
      "\n",
      "    accuracy                           0.99       137\n",
      "   macro avg       0.99      0.99      0.99       137\n",
      "weighted avg       0.99      0.99      0.99       137\n",
      "\n",
      "[[28  0  0  0  0]\n",
      " [ 0 27  0  0  0]\n",
      " [ 0  0 27  0  0]\n",
      " [ 0  0  0 28  0]\n",
      " [ 0  0  0  1 26]]\n"
     ]
    }
   ],
   "source": [
    "rfc1=RandomForestClassifier(n_estimators=11,random_state=1,max_depth=6) \n",
    "#call function \n",
    "rfc1=create_model(rfc1)"
   ]
  },
  {
   "cell_type": "raw",
   "id": "c679409f",
   "metadata": {},
   "source": [
    "#apply second pruning tech \n",
    "#min sample leaf\n",
    "for i in range(45,101,1):\n",
    "    \n",
    "    rfc2=RandomForestClassifier(n_estimators=11,random_state=1,min_samples_leaf=i) \n",
    "\n",
    "    #by default gini index\n",
    "    print(\"min samples leaf: \",i)\n",
    "    #call fn\n",
    "    rfc2=create_model(rfc2)\n",
    "    #"
   ]
  },
  {
   "cell_type": "code",
   "execution_count": 48,
   "id": "b7e2cc8a",
   "metadata": {},
   "outputs": [
    {
     "name": "stdout",
     "output_type": "stream",
     "text": [
      "              precision    recall  f1-score   support\n",
      "\n",
      "           0       0.97      1.00      0.98        28\n",
      "           1       1.00      1.00      1.00        27\n",
      "           2       1.00      1.00      1.00        27\n",
      "           3       0.57      0.86      0.69        28\n",
      "           4       0.67      0.30      0.41        27\n",
      "\n",
      "    accuracy                           0.83       137\n",
      "   macro avg       0.84      0.83      0.82       137\n",
      "weighted avg       0.84      0.83      0.82       137\n",
      "\n",
      "[[28  0  0  0  0]\n",
      " [ 0 27  0  0  0]\n",
      " [ 0  0 27  0  0]\n",
      " [ 0  0  0 24  4]\n",
      " [ 1  0  0 18  8]]\n"
     ]
    }
   ],
   "source": [
    "rfc2=RandomForestClassifier(n_estimators=11,random_state=1,min_samples_leaf=46) \n",
    "#by default gini index\n",
    "#call fn\n",
    "rfc2=create_model(rfc2)"
   ]
  },
  {
   "cell_type": "code",
   "execution_count": 49,
   "id": "3e937782",
   "metadata": {},
   "outputs": [
    {
     "data": {
      "text/html": [
       "<div>\n",
       "<style scoped>\n",
       "    .dataframe tbody tr th:only-of-type {\n",
       "        vertical-align: middle;\n",
       "    }\n",
       "\n",
       "    .dataframe tbody tr th {\n",
       "        vertical-align: top;\n",
       "    }\n",
       "\n",
       "    .dataframe thead th {\n",
       "        text-align: right;\n",
       "    }\n",
       "</style>\n",
       "<table border=\"1\" class=\"dataframe\">\n",
       "  <thead>\n",
       "    <tr style=\"text-align: right;\">\n",
       "      <th></th>\n",
       "      <th>input</th>\n",
       "      <th>IG</th>\n",
       "    </tr>\n",
       "  </thead>\n",
       "  <tbody>\n",
       "    <tr>\n",
       "      <th>0</th>\n",
       "      <td>BP</td>\n",
       "      <td>0.412518</td>\n",
       "    </tr>\n",
       "    <tr>\n",
       "      <th>1</th>\n",
       "      <td>Na_to_K</td>\n",
       "      <td>0.359063</td>\n",
       "    </tr>\n",
       "    <tr>\n",
       "      <th>2</th>\n",
       "      <td>Age</td>\n",
       "      <td>0.222634</td>\n",
       "    </tr>\n",
       "    <tr>\n",
       "      <th>3</th>\n",
       "      <td>Sex</td>\n",
       "      <td>0.005784</td>\n",
       "    </tr>\n",
       "    <tr>\n",
       "      <th>4</th>\n",
       "      <td>Cholesterol</td>\n",
       "      <td>0.000000</td>\n",
       "    </tr>\n",
       "  </tbody>\n",
       "</table>\n",
       "</div>"
      ],
      "text/plain": [
       "         input        IG\n",
       "0           BP  0.412518\n",
       "1      Na_to_K  0.359063\n",
       "2          Age  0.222634\n",
       "3          Sex  0.005784\n",
       "4  Cholesterol  0.000000"
      ]
     },
     "execution_count": 49,
     "metadata": {},
     "output_type": "execute_result"
    }
   ],
   "source": [
    "#check information gain :\n",
    "dict={\"input\":X.columns,\"IG\":rfc2.feature_importances_}\n",
    "#convert dict to dataframe\n",
    "df2=pd.DataFrame(dict)\n",
    "#sorting in desending order\n",
    "#change record no as per sorting\n",
    "df2.sort_values('IG',ascending=False,ignore_index=True)"
   ]
  },
  {
   "cell_type": "code",
   "execution_count": 50,
   "id": "28c512be",
   "metadata": {},
   "outputs": [],
   "source": [
    "#apply boosting technique\n",
    "#first apply ADA boost\n",
    "from sklearn.ensemble import AdaBoostClassifier"
   ]
  },
  {
   "cell_type": "code",
   "execution_count": 51,
   "id": "c0539bec",
   "metadata": {},
   "outputs": [
    {
     "data": {
      "text/plain": [
       "(200, 5)"
      ]
     },
     "execution_count": 51,
     "metadata": {},
     "output_type": "execute_result"
    }
   ],
   "source": [
    "X.shape"
   ]
  },
  {
   "cell_type": "raw",
   "id": "f82d2f46",
   "metadata": {},
   "source": [
    "#check how many feature imp\n",
    "for i in range (1,6):\n",
    "    #create object of AdaBoostClassifier\n",
    "    ada=AdaBoostClassifier(random_state=1,n_estimators=i)\n",
    "    print(\"no of decision stump \",i)\n",
    "    #call fn\n",
    "    ada=create_model(ada)\n",
    "    \n",
    "#here n_estimators = no of decision stump"
   ]
  },
  {
   "cell_type": "code",
   "execution_count": 52,
   "id": "cd24dae7",
   "metadata": {},
   "outputs": [
    {
     "name": "stdout",
     "output_type": "stream",
     "text": [
      "              precision    recall  f1-score   support\n",
      "\n",
      "           0       1.00      1.00      1.00        28\n",
      "           1       0.50      1.00      0.67        27\n",
      "           2       0.00      0.00      0.00        27\n",
      "           3       0.00      0.00      0.00        28\n",
      "           4       0.49      1.00      0.66        27\n",
      "\n",
      "    accuracy                           0.60       137\n",
      "   macro avg       0.40      0.60      0.47       137\n",
      "weighted avg       0.40      0.60      0.47       137\n",
      "\n",
      "[[28  0  0  0  0]\n",
      " [ 0 27  0  0  0]\n",
      " [ 0 27  0  0  0]\n",
      " [ 0  0  0  0 28]\n",
      " [ 0  0  0  0 27]]\n"
     ]
    }
   ],
   "source": [
    "#create object of AdaBoostClassifier\n",
    "ada=AdaBoostClassifier(random_state=1,n_estimators=2)\n",
    "#call fn\n",
    "ada=create_model(ada)"
   ]
  },
  {
   "cell_type": "code",
   "execution_count": 53,
   "id": "e1e3c9a1",
   "metadata": {},
   "outputs": [
    {
     "data": {
      "text/html": [
       "<div>\n",
       "<style scoped>\n",
       "    .dataframe tbody tr th:only-of-type {\n",
       "        vertical-align: middle;\n",
       "    }\n",
       "\n",
       "    .dataframe tbody tr th {\n",
       "        vertical-align: top;\n",
       "    }\n",
       "\n",
       "    .dataframe thead th {\n",
       "        text-align: right;\n",
       "    }\n",
       "</style>\n",
       "<table border=\"1\" class=\"dataframe\">\n",
       "  <thead>\n",
       "    <tr style=\"text-align: right;\">\n",
       "      <th></th>\n",
       "      <th>input</th>\n",
       "      <th>IG</th>\n",
       "    </tr>\n",
       "  </thead>\n",
       "  <tbody>\n",
       "    <tr>\n",
       "      <th>0</th>\n",
       "      <td>BP</td>\n",
       "      <td>0.5</td>\n",
       "    </tr>\n",
       "    <tr>\n",
       "      <th>1</th>\n",
       "      <td>Na_to_K</td>\n",
       "      <td>0.5</td>\n",
       "    </tr>\n",
       "    <tr>\n",
       "      <th>2</th>\n",
       "      <td>Age</td>\n",
       "      <td>0.0</td>\n",
       "    </tr>\n",
       "    <tr>\n",
       "      <th>3</th>\n",
       "      <td>Sex</td>\n",
       "      <td>0.0</td>\n",
       "    </tr>\n",
       "    <tr>\n",
       "      <th>4</th>\n",
       "      <td>Cholesterol</td>\n",
       "      <td>0.0</td>\n",
       "    </tr>\n",
       "  </tbody>\n",
       "</table>\n",
       "</div>"
      ],
      "text/plain": [
       "         input   IG\n",
       "0           BP  0.5\n",
       "1      Na_to_K  0.5\n",
       "2          Age  0.0\n",
       "3          Sex  0.0\n",
       "4  Cholesterol  0.0"
      ]
     },
     "execution_count": 53,
     "metadata": {},
     "output_type": "execute_result"
    }
   ],
   "source": [
    "#check imp features\n",
    "#check information gain :\n",
    "dict={\"input\":X.columns,\"IG\":ada.feature_importances_}\n",
    "#convert dict to dataframe\n",
    "df1=pd.DataFrame(dict)\n",
    "#sorting in desending order\n",
    "#change record no as per sorting\n",
    "df1.sort_values('IG',ascending=False,ignore_index=True)"
   ]
  },
  {
   "cell_type": "code",
   "execution_count": 54,
   "id": "90fa7602",
   "metadata": {},
   "outputs": [],
   "source": [
    "#apply second boosting tech gradient boost\n",
    "from sklearn.ensemble import GradientBoostingClassifier"
   ]
  },
  {
   "cell_type": "raw",
   "id": "e1ca4b1b",
   "metadata": {},
   "source": [
    "#create object of GradientBoostingClassifier class\n",
    "#and passing parameter means how many iteration means how many \n",
    "#decisiontree use to train the model\n",
    "#n_estimator >=10 and <=100\n",
    "for i in range (10,101):\n",
    "    #create object of GradientBoostingClassifier class\n",
    "    gbc=GradientBoostingClassifier(random_state=1,n_estimators=i)\n",
    "    print(\"no of estimators \",i)\n",
    "    #call fn\n",
    "    gbc=create_model(gbc)"
   ]
  },
  {
   "cell_type": "code",
   "execution_count": 55,
   "id": "20389f6e",
   "metadata": {},
   "outputs": [
    {
     "name": "stdout",
     "output_type": "stream",
     "text": [
      "              precision    recall  f1-score   support\n",
      "\n",
      "           0       1.00      1.00      1.00        28\n",
      "           1       1.00      1.00      1.00        27\n",
      "           2       1.00      1.00      1.00        27\n",
      "           3       0.93      1.00      0.97        28\n",
      "           4       1.00      0.93      0.96        27\n",
      "\n",
      "    accuracy                           0.99       137\n",
      "   macro avg       0.99      0.99      0.99       137\n",
      "weighted avg       0.99      0.99      0.99       137\n",
      "\n",
      "[[28  0  0  0  0]\n",
      " [ 0 27  0  0  0]\n",
      " [ 0  0 27  0  0]\n",
      " [ 0  0  0 28  0]\n",
      " [ 0  0  0  2 25]]\n"
     ]
    }
   ],
   "source": [
    "#create object of GradientBoostingClassifier class\n",
    "gbc=GradientBoostingClassifier(random_state=1,n_estimators=74)\n",
    "#call fn\n",
    "gbc=create_model(gbc)"
   ]
  },
  {
   "cell_type": "code",
   "execution_count": 56,
   "id": "f4bddffa",
   "metadata": {},
   "outputs": [
    {
     "data": {
      "text/html": [
       "<div>\n",
       "<style scoped>\n",
       "    .dataframe tbody tr th:only-of-type {\n",
       "        vertical-align: middle;\n",
       "    }\n",
       "\n",
       "    .dataframe tbody tr th {\n",
       "        vertical-align: top;\n",
       "    }\n",
       "\n",
       "    .dataframe thead th {\n",
       "        text-align: right;\n",
       "    }\n",
       "</style>\n",
       "<table border=\"1\" class=\"dataframe\">\n",
       "  <thead>\n",
       "    <tr style=\"text-align: right;\">\n",
       "      <th></th>\n",
       "      <th>input</th>\n",
       "      <th>IG</th>\n",
       "    </tr>\n",
       "  </thead>\n",
       "  <tbody>\n",
       "    <tr>\n",
       "      <th>0</th>\n",
       "      <td>Na_to_K</td>\n",
       "      <td>0.379371</td>\n",
       "    </tr>\n",
       "    <tr>\n",
       "      <th>1</th>\n",
       "      <td>BP</td>\n",
       "      <td>0.338500</td>\n",
       "    </tr>\n",
       "    <tr>\n",
       "      <th>2</th>\n",
       "      <td>Age</td>\n",
       "      <td>0.183026</td>\n",
       "    </tr>\n",
       "    <tr>\n",
       "      <th>3</th>\n",
       "      <td>Cholesterol</td>\n",
       "      <td>0.098650</td>\n",
       "    </tr>\n",
       "    <tr>\n",
       "      <th>4</th>\n",
       "      <td>Sex</td>\n",
       "      <td>0.000453</td>\n",
       "    </tr>\n",
       "  </tbody>\n",
       "</table>\n",
       "</div>"
      ],
      "text/plain": [
       "         input        IG\n",
       "0      Na_to_K  0.379371\n",
       "1           BP  0.338500\n",
       "2          Age  0.183026\n",
       "3  Cholesterol  0.098650\n",
       "4          Sex  0.000453"
      ]
     },
     "execution_count": 56,
     "metadata": {},
     "output_type": "execute_result"
    }
   ],
   "source": [
    "#check imp features\n",
    "#check information gain :\n",
    "dict={\"input\":X.columns,\"IG\":gbc.feature_importances_}\n",
    "#convert dict to dataframe\n",
    "df2=pd.DataFrame(dict)\n",
    "#sorting in desending order\n",
    "#change record no as per sorting\n",
    "df2.sort_values('IG',ascending=False,ignore_index=True)"
   ]
  },
  {
   "cell_type": "code",
   "execution_count": 57,
   "id": "4a26d042",
   "metadata": {},
   "outputs": [],
   "source": [
    "#apply extreme gradient boost tech\n",
    "#work on gradient boost\n",
    "#advanced version of gradient boost\n",
    "#overfit situation handle\n",
    "#outliear handle and null value handle\n",
    "#it is better than gradient boost"
   ]
  },
  {
   "cell_type": "code",
   "execution_count": 58,
   "id": "89cd66d9",
   "metadata": {},
   "outputs": [],
   "source": [
    "#first to install xgboost\n",
    "#!pip install xgboost"
   ]
  },
  {
   "cell_type": "code",
   "execution_count": 59,
   "id": "983748a7",
   "metadata": {},
   "outputs": [],
   "source": [
    "from xgboost import XGBClassifier\n",
    "#create object of XGBClassifier\n",
    "#n_estimator >=10 and <=100\n",
    "#reg_alpha=1 here 1 means doing task to t=remove outlier and overfitting\n",
    "#reg means regularisation and alpha means Lambda means hyperparameter\n",
    "#if reg_alpha=1 , 1 means True means automatic handle outlier and overfitting"
   ]
  },
  {
   "cell_type": "raw",
   "id": "e5a94d0a",
   "metadata": {},
   "source": [
    "for i in range (10,101):\n",
    "    #create object of GradientBoostingClassifier class\n",
    "    xgc=XGBClassifier(random_state=1,n_estimators=i,reg_alpha=1)\n",
    "    print(\"no of estimators \",i)\n",
    "    #call fn\n",
    "    xgc=create_model(xgc)"
   ]
  },
  {
   "cell_type": "code",
   "execution_count": 60,
   "id": "9529d5a4",
   "metadata": {},
   "outputs": [
    {
     "name": "stdout",
     "output_type": "stream",
     "text": [
      "[14:31:46] WARNING: /Users/runner/miniforge3/conda-bld/xgboost-split_1645117948562/work/src/learner.cc:1115: Starting in XGBoost 1.3.0, the default evaluation metric used with the objective 'multi:softprob' was changed from 'merror' to 'mlogloss'. Explicitly set eval_metric if you'd like to restore the old behavior.\n",
      "              precision    recall  f1-score   support\n",
      "\n",
      "           0       1.00      1.00      1.00        28\n",
      "           1       1.00      1.00      1.00        27\n",
      "           2       1.00      1.00      1.00        27\n",
      "           3       0.93      1.00      0.97        28\n",
      "           4       1.00      0.93      0.96        27\n",
      "\n",
      "    accuracy                           0.99       137\n",
      "   macro avg       0.99      0.99      0.99       137\n",
      "weighted avg       0.99      0.99      0.99       137\n",
      "\n",
      "[[28  0  0  0  0]\n",
      " [ 0 27  0  0  0]\n",
      " [ 0  0 27  0  0]\n",
      " [ 0  0  0 28  0]\n",
      " [ 0  0  0  2 25]]\n"
     ]
    }
   ],
   "source": [
    "#create object of GradientBoostingClassifier class\n",
    "xgc=XGBClassifier(random_state=1,n_estimators=10,reg_alpha=1)\n",
    "#call fn\n",
    "xgc=create_model(xgc)"
   ]
  },
  {
   "cell_type": "code",
   "execution_count": 61,
   "id": "5758c31c",
   "metadata": {},
   "outputs": [
    {
     "data": {
      "text/html": [
       "<div>\n",
       "<style scoped>\n",
       "    .dataframe tbody tr th:only-of-type {\n",
       "        vertical-align: middle;\n",
       "    }\n",
       "\n",
       "    .dataframe tbody tr th {\n",
       "        vertical-align: top;\n",
       "    }\n",
       "\n",
       "    .dataframe thead th {\n",
       "        text-align: right;\n",
       "    }\n",
       "</style>\n",
       "<table border=\"1\" class=\"dataframe\">\n",
       "  <thead>\n",
       "    <tr style=\"text-align: right;\">\n",
       "      <th></th>\n",
       "      <th>input</th>\n",
       "      <th>IG</th>\n",
       "    </tr>\n",
       "  </thead>\n",
       "  <tbody>\n",
       "    <tr>\n",
       "      <th>0</th>\n",
       "      <td>Na_to_K</td>\n",
       "      <td>0.291022</td>\n",
       "    </tr>\n",
       "    <tr>\n",
       "      <th>1</th>\n",
       "      <td>BP</td>\n",
       "      <td>0.290812</td>\n",
       "    </tr>\n",
       "    <tr>\n",
       "      <th>2</th>\n",
       "      <td>Cholesterol</td>\n",
       "      <td>0.230512</td>\n",
       "    </tr>\n",
       "    <tr>\n",
       "      <th>3</th>\n",
       "      <td>Age</td>\n",
       "      <td>0.184849</td>\n",
       "    </tr>\n",
       "    <tr>\n",
       "      <th>4</th>\n",
       "      <td>Sex</td>\n",
       "      <td>0.002805</td>\n",
       "    </tr>\n",
       "  </tbody>\n",
       "</table>\n",
       "</div>"
      ],
      "text/plain": [
       "         input        IG\n",
       "0      Na_to_K  0.291022\n",
       "1           BP  0.290812\n",
       "2  Cholesterol  0.230512\n",
       "3          Age  0.184849\n",
       "4          Sex  0.002805"
      ]
     },
     "execution_count": 61,
     "metadata": {},
     "output_type": "execute_result"
    }
   ],
   "source": [
    "#check imp features\n",
    "#check information gain :\n",
    "dict={\"input\":X.columns,\"IG\":xgc.feature_importances_}\n",
    "#convert dict to dataframe\n",
    "df3=pd.DataFrame(dict)\n",
    "#sorting in desending order\n",
    "#change record no as per sorting\n",
    "df3.sort_values('IG',ascending=False,ignore_index=True)\n",
    "#11 iteration ke baad bataya ki konse features imp hai n_estimator=10"
   ]
  },
  {
   "cell_type": "code",
   "execution_count": 62,
   "id": "88643651",
   "metadata": {},
   "outputs": [],
   "source": [
    "#give data to support vector machine\n",
    "#1.Linear kernal function of support vector machine \n",
    "#means suppose data are linear separatable with the help of straight line\n",
    "#call inbuild claass for Linear SVM :linear SVC\n",
    "#SVC means support vector classifier\n",
    "#data give to linear"
   ]
  },
  {
   "cell_type": "code",
   "execution_count": 63,
   "id": "3e5183f3",
   "metadata": {},
   "outputs": [],
   "source": [
    "from sklearn.svm import LinearSVC"
   ]
  },
  {
   "cell_type": "code",
   "execution_count": 64,
   "id": "1ebbb795",
   "metadata": {},
   "outputs": [],
   "source": [
    "#create obhect of LinearSVC class\n",
    "#here no add error\n",
    "svc=LinearSVC(random_state=1)"
   ]
  },
  {
   "cell_type": "code",
   "execution_count": 65,
   "id": "efb0229d",
   "metadata": {},
   "outputs": [
    {
     "name": "stdout",
     "output_type": "stream",
     "text": [
      "              precision    recall  f1-score   support\n",
      "\n",
      "           0       0.96      0.96      0.96        28\n",
      "           1       1.00      1.00      1.00        27\n",
      "           2       0.96      1.00      0.98        27\n",
      "           3       0.97      1.00      0.98        28\n",
      "           4       1.00      0.93      0.96        27\n",
      "\n",
      "    accuracy                           0.98       137\n",
      "   macro avg       0.98      0.98      0.98       137\n",
      "weighted avg       0.98      0.98      0.98       137\n",
      "\n",
      "[[27  0  1  0  0]\n",
      " [ 0 27  0  0  0]\n",
      " [ 0  0 27  0  0]\n",
      " [ 0  0  0 28  0]\n",
      " [ 1  0  0  1 25]]\n"
     ]
    }
   ],
   "source": [
    "#call fn\n",
    "svc=create_model(svc)"
   ]
  },
  {
   "cell_type": "code",
   "execution_count": 66,
   "id": "7e246ed6",
   "metadata": {},
   "outputs": [],
   "source": [
    "#add error while runtime\n",
    "##C means error parameter ,the value of C can be <=1\n",
    "svc1=LinearSVC(random_state=1,C=0.07)"
   ]
  },
  {
   "cell_type": "code",
   "execution_count": 67,
   "id": "b907f91a",
   "metadata": {},
   "outputs": [
    {
     "name": "stdout",
     "output_type": "stream",
     "text": [
      "              precision    recall  f1-score   support\n",
      "\n",
      "           0       0.96      0.82      0.88        28\n",
      "           1       0.87      0.96      0.91        27\n",
      "           2       0.90      1.00      0.95        27\n",
      "           3       0.96      0.93      0.95        28\n",
      "           4       0.96      0.93      0.94        27\n",
      "\n",
      "    accuracy                           0.93       137\n",
      "   macro avg       0.93      0.93      0.93       137\n",
      "weighted avg       0.93      0.93      0.93       137\n",
      "\n",
      "[[23  2  2  0  1]\n",
      " [ 0 26  1  0  0]\n",
      " [ 0  0 27  0  0]\n",
      " [ 0  2  0 26  0]\n",
      " [ 1  0  0  1 25]]\n"
     ]
    }
   ],
   "source": [
    "#call fn\n",
    "svc1=create_model(svc1)"
   ]
  },
  {
   "cell_type": "code",
   "execution_count": 68,
   "id": "b7437b5b",
   "metadata": {},
   "outputs": [],
   "source": [
    "#apply KNN algorithm :inbuild class KneighborsClassifier which define in\n",
    "from sklearn.neighbors import KNeighborsClassifier"
   ]
  },
  {
   "cell_type": "code",
   "execution_count": 69,
   "id": "8995dfb2",
   "metadata": {},
   "outputs": [],
   "source": [
    "#create object of KNeighborsClassifier class\n",
    "#standard n_neighbors=5\n",
    "#p=2 means Euclidean distance method\n",
    "knc=KNeighborsClassifier(n_neighbors=5,metric='minkowski',p=2)"
   ]
  },
  {
   "cell_type": "code",
   "execution_count": 70,
   "id": "ac151c53",
   "metadata": {},
   "outputs": [
    {
     "name": "stdout",
     "output_type": "stream",
     "text": [
      "              precision    recall  f1-score   support\n",
      "\n",
      "           0       1.00      0.68      0.81        28\n",
      "           1       0.93      1.00      0.96        27\n",
      "           2       0.93      1.00      0.96        27\n",
      "           3       0.84      0.96      0.90        28\n",
      "           4       0.89      0.93      0.91        27\n",
      "\n",
      "    accuracy                           0.91       137\n",
      "   macro avg       0.92      0.91      0.91       137\n",
      "weighted avg       0.92      0.91      0.91       137\n",
      "\n",
      "[[19  2  2  3  2]\n",
      " [ 0 27  0  0  0]\n",
      " [ 0  0 27  0  0]\n",
      " [ 0  0  0 27  1]\n",
      " [ 0  0  0  2 25]]\n"
     ]
    }
   ],
   "source": [
    "#call fn\n",
    "knc=create_model(knc)"
   ]
  },
  {
   "cell_type": "raw",
   "id": "b04d7244",
   "metadata": {},
   "source": [
    "#conclusion\n",
    "\n",
    "overall all techniques the RandomForestClassifier with Pruning Technique max_depth=6 is best for this data set because this technique gived very good f1_score as well as accuracy which is approx 98%"
   ]
  },
  {
   "cell_type": "code",
   "execution_count": null,
   "id": "92fbca1e",
   "metadata": {},
   "outputs": [],
   "source": []
  },
  {
   "cell_type": "code",
   "execution_count": null,
   "id": "092b86bb",
   "metadata": {},
   "outputs": [],
   "source": []
  },
  {
   "cell_type": "code",
   "execution_count": null,
   "id": "c2fe151b",
   "metadata": {},
   "outputs": [],
   "source": []
  },
  {
   "cell_type": "code",
   "execution_count": null,
   "id": "bfcb015a",
   "metadata": {},
   "outputs": [],
   "source": []
  },
  {
   "cell_type": "code",
   "execution_count": null,
   "id": "33b9e157",
   "metadata": {},
   "outputs": [],
   "source": []
  },
  {
   "cell_type": "code",
   "execution_count": null,
   "id": "9f81d452",
   "metadata": {},
   "outputs": [],
   "source": []
  }
 ],
 "metadata": {
  "kernelspec": {
   "display_name": "Python 3 (ipykernel)",
   "language": "python",
   "name": "python3"
  },
  "language_info": {
   "codemirror_mode": {
    "name": "ipython",
    "version": 3
   },
   "file_extension": ".py",
   "mimetype": "text/x-python",
   "name": "python",
   "nbconvert_exporter": "python",
   "pygments_lexer": "ipython3",
   "version": "3.9.7"
  }
 },
 "nbformat": 4,
 "nbformat_minor": 5
}
